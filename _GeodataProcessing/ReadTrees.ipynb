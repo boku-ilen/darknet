{
 "cells": [
  {
   "cell_type": "code",
   "execution_count": 1,
   "metadata": {},
   "outputs": [
    {
     "name": "stderr",
     "output_type": "stream",
     "text": [
      "PROJ: proj_create_from_database: Cannot find proj.db\n"
     ]
    }
   ],
   "source": [
    "#import sys\n",
    "#from osgeo import gdal\n",
    "import fiona\n",
    "import pandas as pd\n",
    "from collections import Counter"
   ]
  },
  {
   "cell_type": "code",
   "execution_count": 2,
   "metadata": {},
   "outputs": [],
   "source": [
    "data_path = '../../../../Praktikum_data/geodata_vienna/'"
   ]
  },
  {
   "cell_type": "code",
   "execution_count": 3,
   "metadata": {},
   "outputs": [
    {
     "name": "stdout",
     "output_type": "stream",
     "text": [
      "{'type': 'Feature', 'id': '0', 'properties': OrderedDict([('OBJECTID', 296091108.0), ('BAUM_ID', 212558.0), ('DATENFUEHR', 'magistrat'), ('BEZIRK', 21.0), ('OBJEKT_STR', '21., Parkanlage Ferdinand-Käs-Gasse, MA42'), ('GEBIETSGRU', 'MA 42 - Parkanlage'), ('GATTUNG_AR', 'Fraxinus excelsior (Gemeine Esche)'), ('PFLANZJAHR', 0.0), ('PFLANZJAH0', 'nicht definiert'), ('STAMMUMFAN', 51.0), ('STAMMUMFA0', '51 cm'), ('BAUMHOEHE', 2.0), ('BAUMHOEHE_', '6-10 m'), ('KRONENDURC', 2.0), ('KRONENDUR0', '4-6 m'), ('BAUMNUMMER', '10')]), 'geometry': {'type': 'Point', 'coordinates': (16.400650182587487, 48.279962208049916)}}\n"
     ]
    }
   ],
   "source": [
    "trees = fiona.open(data_path + 'TREES/BAUMKATOGDPoint.shp')\n",
    "print(next(iter(trees)))"
   ]
  },
  {
   "cell_type": "code",
   "execution_count": 4,
   "metadata": {},
   "outputs": [],
   "source": [
    "#print(len(trees))\n",
    "data_list = []\n",
    "data = []\n",
    "for tree in trees:\n",
    "    # print(trees[idx]['id'], trees[idx]['properties']['BAUM_ID'], trees[idx]['properties']['GATTUNG_AR'], trees[idx]['properties']['BAUMHOEHE_'], trees[idx]['geometry']['coordinates'])\n",
    "    data.append(tree['id'])\n",
    "    data.append(tree['properties']['BAUM_ID'])\n",
    "    data.append(tree['properties']['GATTUNG_AR'])\n",
    "    data.append(tree['properties']['BAUMHOEHE_'])\n",
    "    #data.append(tree['properties']['KRONENDURC'])\n",
    "    data.append(tree['geometry']['coordinates'][0])\n",
    "    data.append(tree['geometry']['coordinates'][1])\n",
    "    data_list.append(data)\n",
    "    data = []"
   ]
  },
  {
   "cell_type": "code",
   "execution_count": 5,
   "metadata": {},
   "outputs": [],
   "source": [
    "df = pd.DataFrame(data_list, columns = ['id', 'tree_id', 'type', 'height', 'coor_x', 'coor_y'])\n",
    "df.to_json(data_path + r'vienna_trees.json', orient='index')"
   ]
  },
  {
   "cell_type": "code",
   "execution_count": 6,
   "metadata": {},
   "outputs": [
    {
     "data": {
      "text/html": [
       "<div>\n",
       "<style scoped>\n",
       "    .dataframe tbody tr th:only-of-type {\n",
       "        vertical-align: middle;\n",
       "    }\n",
       "\n",
       "    .dataframe tbody tr th {\n",
       "        vertical-align: top;\n",
       "    }\n",
       "\n",
       "    .dataframe thead th {\n",
       "        text-align: right;\n",
       "    }\n",
       "</style>\n",
       "<table border=\"1\" class=\"dataframe\">\n",
       "  <thead>\n",
       "    <tr style=\"text-align: right;\">\n",
       "      <th></th>\n",
       "      <th>id</th>\n",
       "      <th>tree_id</th>\n",
       "      <th>type</th>\n",
       "      <th>height</th>\n",
       "      <th>coor_x</th>\n",
       "      <th>coor_y</th>\n",
       "    </tr>\n",
       "  </thead>\n",
       "  <tbody>\n",
       "    <tr>\n",
       "      <th>0</th>\n",
       "      <td>0</td>\n",
       "      <td>212558</td>\n",
       "      <td>Fraxinus excelsior (Gemeine Esche)</td>\n",
       "      <td>6-10 m</td>\n",
       "      <td>16.400650</td>\n",
       "      <td>48.279962</td>\n",
       "    </tr>\n",
       "    <tr>\n",
       "      <th>1</th>\n",
       "      <td>1</td>\n",
       "      <td>117713</td>\n",
       "      <td>Acer pseudoplatanus (Bergahorn)</td>\n",
       "      <td>6-10 m</td>\n",
       "      <td>16.289973</td>\n",
       "      <td>48.144435</td>\n",
       "    </tr>\n",
       "    <tr>\n",
       "      <th>2</th>\n",
       "      <td>2</td>\n",
       "      <td>160688</td>\n",
       "      <td>Sophora japonica (Schnurbaum)</td>\n",
       "      <td>6-10 m</td>\n",
       "      <td>16.396337</td>\n",
       "      <td>48.245052</td>\n",
       "    </tr>\n",
       "    <tr>\n",
       "      <th>3</th>\n",
       "      <td>3</td>\n",
       "      <td>160687</td>\n",
       "      <td>Sophora japonica (Schnurbaum)</td>\n",
       "      <td>6-10 m</td>\n",
       "      <td>16.396263</td>\n",
       "      <td>48.245075</td>\n",
       "    </tr>\n",
       "    <tr>\n",
       "      <th>4</th>\n",
       "      <td>4</td>\n",
       "      <td>160686</td>\n",
       "      <td>Sophora japonica (Schnurbaum)</td>\n",
       "      <td>6-10 m</td>\n",
       "      <td>16.396171</td>\n",
       "      <td>48.245117</td>\n",
       "    </tr>\n",
       "    <tr>\n",
       "      <th>...</th>\n",
       "      <td>...</td>\n",
       "      <td>...</td>\n",
       "      <td>...</td>\n",
       "      <td>...</td>\n",
       "      <td>...</td>\n",
       "      <td>...</td>\n",
       "    </tr>\n",
       "    <tr>\n",
       "      <th>202132</th>\n",
       "      <td>202132</td>\n",
       "      <td>198055</td>\n",
       "      <td>Acer platanoides 'Columnare' (Säulenahorn)</td>\n",
       "      <td>6-10 m</td>\n",
       "      <td>16.408641</td>\n",
       "      <td>48.209731</td>\n",
       "    </tr>\n",
       "    <tr>\n",
       "      <th>202133</th>\n",
       "      <td>202133</td>\n",
       "      <td>148319</td>\n",
       "      <td>Acer platanoides (Spitzahorn)</td>\n",
       "      <td>11-15 m</td>\n",
       "      <td>16.408751</td>\n",
       "      <td>48.209825</td>\n",
       "    </tr>\n",
       "    <tr>\n",
       "      <th>202134</th>\n",
       "      <td>202134</td>\n",
       "      <td>148317</td>\n",
       "      <td>Acer platanoides 'Schwedleri' (Rotblättriger S...</td>\n",
       "      <td>11-15 m</td>\n",
       "      <td>16.408867</td>\n",
       "      <td>48.209922</td>\n",
       "    </tr>\n",
       "    <tr>\n",
       "      <th>202135</th>\n",
       "      <td>202135</td>\n",
       "      <td>141064</td>\n",
       "      <td>Tilia platyphyllos (Sommerlinde)</td>\n",
       "      <td>11-15 m</td>\n",
       "      <td>16.281555</td>\n",
       "      <td>48.135685</td>\n",
       "    </tr>\n",
       "    <tr>\n",
       "      <th>202136</th>\n",
       "      <td>202136</td>\n",
       "      <td>183681</td>\n",
       "      <td>Populus nigra (Schwarzpappel)</td>\n",
       "      <td>21-25 m</td>\n",
       "      <td>16.437627</td>\n",
       "      <td>48.215351</td>\n",
       "    </tr>\n",
       "  </tbody>\n",
       "</table>\n",
       "<p>202137 rows × 6 columns</p>\n",
       "</div>"
      ],
      "text/plain": [
       "            id  tree_id                                               type  \\\n",
       "0            0   212558                 Fraxinus excelsior (Gemeine Esche)   \n",
       "1            1   117713                    Acer pseudoplatanus (Bergahorn)   \n",
       "2            2   160688                      Sophora japonica (Schnurbaum)   \n",
       "3            3   160687                      Sophora japonica (Schnurbaum)   \n",
       "4            4   160686                      Sophora japonica (Schnurbaum)   \n",
       "...        ...      ...                                                ...   \n",
       "202132  202132   198055         Acer platanoides 'Columnare' (Säulenahorn)   \n",
       "202133  202133   148319                      Acer platanoides (Spitzahorn)   \n",
       "202134  202134   148317  Acer platanoides 'Schwedleri' (Rotblättriger S...   \n",
       "202135  202135   141064                   Tilia platyphyllos (Sommerlinde)   \n",
       "202136  202136   183681                      Populus nigra (Schwarzpappel)   \n",
       "\n",
       "         height     coor_x     coor_y  \n",
       "0        6-10 m  16.400650  48.279962  \n",
       "1        6-10 m  16.289973  48.144435  \n",
       "2        6-10 m  16.396337  48.245052  \n",
       "3        6-10 m  16.396263  48.245075  \n",
       "4        6-10 m  16.396171  48.245117  \n",
       "...         ...        ...        ...  \n",
       "202132   6-10 m  16.408641  48.209731  \n",
       "202133  11-15 m  16.408751  48.209825  \n",
       "202134  11-15 m  16.408867  48.209922  \n",
       "202135  11-15 m  16.281555  48.135685  \n",
       "202136  21-25 m  16.437627  48.215351  \n",
       "\n",
       "[202137 rows x 6 columns]"
      ]
     },
     "execution_count": 6,
     "metadata": {},
     "output_type": "execute_result"
    }
   ],
   "source": [
    "trees = pd.read_json(data_path + r'vienna_trees.json', orient='index')\n",
    "trees"
   ]
  },
  {
   "cell_type": "code",
   "execution_count": 7,
   "metadata": {},
   "outputs": [],
   "source": [
    "#Counter(trees['type'])"
   ]
  },
  {
   "cell_type": "code",
   "execution_count": null,
   "metadata": {},
   "outputs": [],
   "source": []
  }
 ],
 "metadata": {
  "kernelspec": {
   "display_name": "Python 3",
   "language": "python",
   "name": "python3"
  },
  "language_info": {
   "codemirror_mode": {
    "name": "ipython",
    "version": 3
   },
   "file_extension": ".py",
   "mimetype": "text/x-python",
   "name": "python",
   "nbconvert_exporter": "python",
   "pygments_lexer": "ipython3",
   "version": "3.7.3"
  }
 },
 "nbformat": 4,
 "nbformat_minor": 4
}
