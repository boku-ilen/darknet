{
 "cells": [
  {
   "cell_type": "code",
   "execution_count": 3,
   "metadata": {},
   "outputs": [],
   "source": [
    "import tensorflow\n",
    "from tensorflow_graphics.image.color_space import linear_rgb\n",
    "import matplotlib.image as mpimg\n",
    "import numpy as np\n",
    "from PIL import Image\n",
    "import glob\n",
    "import os\n",
    "import sys"
   ]
  },
  {
   "cell_type": "code",
   "execution_count": 2,
   "metadata": {},
   "outputs": [],
   "source": [
    "dir_path = \"data/\"\n",
    "dir_to_save = \"data/to_save/\"\n",
    "tensorflow.InteractiveSession()\n",
    "def set_file_paths():\n",
    "\n",
    "    # set data path for all files with the given extension\n",
    "    file_paths = glob.glob(dir_path + '*png')\n",
    "    # check if any files are found\n",
    "    if not file_paths:\n",
    "        sys.exit(\"No files found, check the path\")\n",
    "    return file_paths"
   ]
  },
  {
   "cell_type": "code",
   "execution_count": 4,
   "metadata": {},
   "outputs": [
    {
     "ename": "SystemExit",
     "evalue": "No files found, check the path",
     "output_type": "error",
     "traceback": [
      "An exception has occurred, use %tb to see the full traceback.\n",
      "\u001b[1;31mSystemExit\u001b[0m\u001b[1;31m:\u001b[0m No files found, check the path\n"
     ]
    },
    {
     "name": "stderr",
     "output_type": "stream",
     "text": [
      "c:\\users\\barbara\\anaconda3\\envs\\covi\\lib\\site-packages\\IPython\\core\\interactiveshell.py:3334: UserWarning: To exit: use 'exit', 'quit', or Ctrl-D.\n",
      "  warn(\"To exit: use 'exit', 'quit', or Ctrl-D.\", stacklevel=1)\n"
     ]
    }
   ],
   "source": [
    "file_paths = set_file_paths()\n",
    "for file_path in file_paths:\n",
    "    image = mpimg.imread(file_path)[:,:,:3]\n",
    "    lin_image = linear_rgb.from_srgb(image)\n",
    "    img_to_save = lin_image.eval()\n",
    "    img_name = os.path.basename(file_path)\n",
    "    print(img_name)\n",
    "    mpimg.imsave(dir_to_save + img_name, img_to_save)"
   ]
  },
  {
   "cell_type": "code",
   "execution_count": null,
   "metadata": {},
   "outputs": [],
   "source": []
  }
 ],
 "metadata": {
  "kernelspec": {
   "display_name": "Python 3",
   "language": "python",
   "name": "python3"
  },
  "language_info": {
   "codemirror_mode": {
    "name": "ipython",
    "version": 3
   },
   "file_extension": ".py",
   "mimetype": "text/x-python",
   "name": "python",
   "nbconvert_exporter": "python",
   "pygments_lexer": "ipython3",
   "version": "3.6.9"
  }
 },
 "nbformat": 4,
 "nbformat_minor": 2
}
